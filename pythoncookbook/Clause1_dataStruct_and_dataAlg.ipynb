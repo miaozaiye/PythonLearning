{
 "cells": [
  {
   "cell_type": "markdown",
   "metadata": {},
   "source": [
    "# split the series to single val"
   ]
  },
  {
   "cell_type": "code",
   "execution_count": 1,
   "metadata": {
    "collapsed": true
   },
   "outputs": [],
   "source": [
    "a = [1,3,4,5,6,7]"
   ]
  },
  {
   "cell_type": "code",
   "execution_count": 2,
   "metadata": {
    "collapsed": true
   },
   "outputs": [],
   "source": [
    "va,vb,vc,vd,ve,vf=a"
   ]
  },
  {
   "cell_type": "code",
   "execution_count": 3,
   "metadata": {
    "collapsed": false
   },
   "outputs": [
    {
     "data": {
      "text/plain": [
       "1"
      ]
     },
     "execution_count": 3,
     "metadata": {},
     "output_type": "execute_result"
    }
   ],
   "source": [
    "va"
   ]
  },
  {
   "cell_type": "code",
   "execution_count": 4,
   "metadata": {
    "collapsed": false
   },
   "outputs": [
    {
     "data": {
      "text/plain": [
       "3"
      ]
     },
     "execution_count": 4,
     "metadata": {},
     "output_type": "execute_result"
    }
   ],
   "source": [
    "vb"
   ]
  },
  {
   "cell_type": "markdown",
   "metadata": {},
   "source": [
    "## for multilevel list"
   ]
  },
  {
   "cell_type": "code",
   "execution_count": 6,
   "metadata": {
    "collapsed": true
   },
   "outputs": [],
   "source": [
    "a = [1,2,3,4,5,[6,8,9]]"
   ]
  },
  {
   "cell_type": "code",
   "execution_count": 7,
   "metadata": {
    "collapsed": true
   },
   "outputs": [],
   "source": [
    "va,vb,vc,vd,ve,vf=a"
   ]
  },
  {
   "cell_type": "code",
   "execution_count": 8,
   "metadata": {
    "collapsed": false
   },
   "outputs": [
    {
     "data": {
      "text/plain": [
       "[6, 8, 9]"
      ]
     },
     "execution_count": 8,
     "metadata": {},
     "output_type": "execute_result"
    }
   ],
   "source": [
    "vf"
   ]
  },
  {
   "cell_type": "code",
   "execution_count": 11,
   "metadata": {
    "collapsed": true
   },
   "outputs": [],
   "source": [
    "va,vb,vc,vd,ve,(vf,vg,vh)=a"
   ]
  },
  {
   "cell_type": "code",
   "execution_count": 12,
   "metadata": {
    "collapsed": false
   },
   "outputs": [
    {
     "data": {
      "text/plain": [
       "6"
      ]
     },
     "execution_count": 12,
     "metadata": {},
     "output_type": "execute_result"
    }
   ],
   "source": [
    "vf"
   ]
  },
  {
   "cell_type": "markdown",
   "metadata": {},
   "source": [
    "## for some value you donot need"
   ]
  },
  {
   "cell_type": "code",
   "execution_count": 13,
   "metadata": {
    "collapsed": true
   },
   "outputs": [],
   "source": [
    "va,_,vc,_,_,(vf,vg,vh)=a"
   ]
  },
  {
   "cell_type": "code",
   "execution_count": 14,
   "metadata": {
    "collapsed": false
   },
   "outputs": [
    {
     "data": {
      "text/plain": [
       "8"
      ]
     },
     "execution_count": 14,
     "metadata": {},
     "output_type": "execute_result"
    }
   ],
   "source": [
    "vg"
   ]
  },
  {
   "cell_type": "code",
   "execution_count": 15,
   "metadata": {
    "collapsed": false
   },
   "outputs": [
    {
     "data": {
      "text/plain": [
       "6"
      ]
     },
     "execution_count": 15,
     "metadata": {},
     "output_type": "execute_result"
    }
   ],
   "source": [
    "vf"
   ]
  },
  {
   "cell_type": "markdown",
   "metadata": {},
   "source": [
    "###  分解任意长度的列表中的前后N个元素"
   ]
  },
  {
   "cell_type": "code",
   "execution_count": 16,
   "metadata": {
    "collapsed": true
   },
   "outputs": [],
   "source": [
    "a=range(100)"
   ]
  },
  {
   "cell_type": "code",
   "execution_count": 18,
   "metadata": {
    "collapsed": false
   },
   "outputs": [
    {
     "data": {
      "text/plain": [
       "[1, 2]"
      ]
     },
     "execution_count": 18,
     "metadata": {},
     "output_type": "execute_result"
    }
   ],
   "source": [
    "a[1:3]"
   ]
  },
  {
   "cell_type": "code",
   "execution_count": 21,
   "metadata": {
    "collapsed": false
   },
   "outputs": [
    {
     "data": {
      "text/plain": [
       "[97, 98, 99]"
      ]
     },
     "execution_count": 21,
     "metadata": {},
     "output_type": "execute_result"
    }
   ],
   "source": [
    "a[-3:]"
   ]
  },
  {
   "cell_type": "markdown",
   "metadata": {},
   "source": [
    "### 迭代过程中对最后的几次迭代做记录"
   ]
  },
  {
   "cell_type": "code",
   "execution_count": 41,
   "metadata": {
    "collapsed": true
   },
   "outputs": [
    {
     "name": "stdout",
     "output_type": "stream",
     "text": [
      "current:0\n",
      "deque([0])\n",
      "1\n",
      "current:1\n",
      "deque([1, 0])\n",
      "2\n",
      "current:2\n",
      "deque([2, 1])\n",
      "2\n",
      "current:3\n",
      "deque([3, 2])\n",
      "2\n",
      "current:4\n",
      "deque([4, 3])\n",
      "2\n",
      "current:5\n",
      "deque([5, 4])\n",
      "2\n",
      "current:6\n",
      "deque([6, 5])\n",
      "2\n",
      "current:7\n",
      "deque([7, 6])\n",
      "2\n",
      "current:8\n",
      "deque([8, 7])\n",
      "2\n",
      "current:9\n",
      "deque([9, 8])\n",
      "2\n",
      "current:10\n",
      "deque([10, 9])\n",
      "2\n",
      "current:11\n",
      "deque([11, 10])\n",
      "2\n",
      "current:12\n",
      "deque([12, 11])\n",
      "2\n",
      "current:13\n",
      "deque([13, 12])\n",
      "2\n",
      "current:14\n",
      "deque([14, 13])\n",
      "2\n",
      "current:15\n",
      "deque([15, 14])\n",
      "2\n",
      "current:16\n",
      "deque([16, 15])\n",
      "2\n",
      "current:17\n",
      "deque([17, 16])\n",
      "2\n",
      "current:18\n",
      "deque([18, 17])\n",
      "2\n",
      "current:19\n",
      "deque([19, 18])\n",
      "2\n",
      "current:20\n",
      "deque([20, 19])\n",
      "2\n",
      "current:21\n",
      "deque([21, 20])\n",
      "2\n",
      "current:22\n",
      "deque([22, 21])\n",
      "2\n",
      "current:23\n",
      "deque([23, 22])\n",
      "2\n",
      "current:24\n",
      "deque([24, 23])\n",
      "2\n",
      "current:25\n",
      "deque([25, 24])\n",
      "2\n",
      "current:26\n",
      "deque([26, 25])\n",
      "2\n",
      "current:27\n",
      "deque([27, 26])\n",
      "2\n",
      "current:28\n",
      "deque([28, 27])\n",
      "2\n",
      "current:29\n",
      "deque([29, 28])\n",
      "2\n",
      "current:30\n",
      "deque([30, 29])\n",
      "2\n",
      "current:31\n",
      "deque([31, 30])\n",
      "2\n",
      "current:32\n",
      "deque([32, 31])\n",
      "2\n",
      "current:33\n",
      "deque([33, 32])\n",
      "2\n",
      "current:34\n",
      "deque([34, 33])\n",
      "2\n",
      "current:35\n",
      "deque([35, 34])\n",
      "2\n",
      "current:36\n",
      "deque([36, 35])\n",
      "2\n",
      "current:37\n",
      "deque([37, 36])\n",
      "2\n",
      "current:38\n",
      "deque([38, 37])\n",
      "2\n",
      "current:39\n",
      "deque([39, 38])\n",
      "2\n",
      "current:40\n",
      "deque([40, 39])\n",
      "2\n",
      "current:41\n",
      "deque([41, 40])\n",
      "2\n",
      "current:42\n",
      "deque([42, 41])\n",
      "2\n",
      "current:43\n",
      "deque([43, 42])\n",
      "2\n",
      "current:44\n",
      "deque([44, 43])\n",
      "2\n",
      "current:45\n",
      "deque([45, 44])\n",
      "2\n",
      "current:46\n",
      "deque([46, 45])\n",
      "2\n",
      "current:47\n",
      "deque([47, 46])\n",
      "2\n",
      "current:48\n",
      "deque([48, 47])\n",
      "2\n",
      "current:49\n",
      "deque([49, 48])\n",
      "2\n",
      "current:50\n",
      "deque([50, 49])\n",
      "2\n",
      "current:51\n",
      "deque([51, 50])\n",
      "2\n",
      "current:52\n",
      "deque([52, 51])\n",
      "2\n",
      "current:53\n",
      "deque([53, 52])\n",
      "2\n",
      "current:54\n",
      "deque([54, 53])\n",
      "2\n",
      "current:55\n",
      "deque([55, 54])\n",
      "2\n",
      "current:56\n",
      "deque([56, 55])\n",
      "2\n",
      "current:57\n",
      "deque([57, 56])\n",
      "2\n",
      "current:58\n",
      "deque([58, 57])\n",
      "2\n",
      "current:59\n",
      "deque([59, 58])\n",
      "2\n",
      "current:60\n",
      "deque([60, 59])\n",
      "2\n",
      "current:61\n",
      "deque([61, 60])\n",
      "2\n",
      "current:62\n",
      "deque([62, 61])\n",
      "2\n",
      "current:63\n",
      "deque([63, 62])\n",
      "2\n",
      "current:64\n",
      "deque([64, 63])\n",
      "2\n",
      "current:65\n",
      "deque([65, 64])\n",
      "2\n",
      "current:66\n",
      "deque([66, 65])\n",
      "2\n",
      "current:67\n",
      "deque([67, 66])\n",
      "2\n",
      "current:68\n",
      "deque([68, 67])\n",
      "2\n",
      "current:69\n",
      "deque([69, 68])\n",
      "2\n",
      "current:70\n",
      "deque([70, 69])\n",
      "2\n",
      "current:71\n",
      "deque([71, 70])\n",
      "2\n",
      "current:72\n",
      "deque([72, 71])\n",
      "2\n",
      "current:73\n",
      "deque([73, 72])\n",
      "2\n",
      "current:74\n",
      "deque([74, 73])\n",
      "2\n",
      "current:75\n",
      "deque([75, 74])\n",
      "2\n",
      "current:76\n",
      "deque([76, 75])\n",
      "2\n",
      "current:77\n",
      "deque([77, 76])\n",
      "2\n",
      "current:78\n",
      "deque([78, 77])\n",
      "2\n",
      "current:79\n",
      "deque([79, 78])\n",
      "2\n",
      "current:80\n",
      "deque([80, 79])\n",
      "2\n",
      "current:81\n",
      "deque([81, 80])\n",
      "2\n",
      "current:82\n",
      "deque([82, 81])\n",
      "2\n",
      "current:83\n",
      "deque([83, 82])\n",
      "2\n",
      "current:84\n",
      "deque([84, 83])\n",
      "2\n",
      "current:85\n",
      "deque([85, 84])\n",
      "2\n",
      "current:86\n",
      "deque([86, 85])\n",
      "2\n",
      "current:87\n",
      "deque([87, 86])\n",
      "2\n",
      "current:88\n",
      "deque([88, 87])\n",
      "2\n",
      "current:89\n",
      "deque([89, 88])\n",
      "2\n",
      "current:90\n",
      "deque([90, 89])\n",
      "2\n",
      "current:91\n",
      "deque([91, 90])\n",
      "2\n",
      "current:92\n",
      "deque([92, 91])\n",
      "2\n",
      "current:93\n",
      "deque([93, 92])\n",
      "2\n",
      "current:94\n",
      "deque([94, 93])\n",
      "2\n",
      "current:95\n",
      "deque([95, 94])\n",
      "2\n",
      "current:96\n",
      "deque([96, 95])\n",
      "2\n",
      "current:97\n",
      "deque([97, 96])\n",
      "2\n",
      "current:98\n",
      "deque([98, 97])\n",
      "2\n",
      "current:99\n",
      "deque([99, 98])\n",
      "2\n"
     ]
    }
   ],
   "source": [
    "from collections import deque\n",
    "formallist = deque([])\n",
    "for i in a:\n",
    "    print \"current:\"+str(i)\n",
    "    formallist.appendleft(i)\n",
    "    if len(formallist)>2:\n",
    "        formallist.pop()\n",
    "    print formallist\n",
    "    print len(formallist)"
   ]
  },
  {
   "cell_type": "code",
   "execution_count": null,
   "metadata": {
    "collapsed": true
   },
   "outputs": [],
   "source": []
  }
 ],
 "metadata": {
  "kernelspec": {
   "display_name": "Python 2",
   "language": "python",
   "name": "python2"
  },
  "language_info": {
   "codemirror_mode": {
    "name": "ipython",
    "version": 2
   },
   "file_extension": ".py",
   "mimetype": "text/x-python",
   "name": "python",
   "nbconvert_exporter": "python",
   "pygments_lexer": "ipython2",
   "version": "2.7.13"
  }
 },
 "nbformat": 4,
 "nbformat_minor": 2
}
